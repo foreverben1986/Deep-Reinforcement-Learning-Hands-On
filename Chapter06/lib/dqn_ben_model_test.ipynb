{
 "cells": [
  {
   "cell_type": "code",
   "execution_count": 49,
   "metadata": {},
   "outputs": [],
   "source": [
    "import tensorflow as tf\n",
    "import tensorflow.keras as keras\n",
    "import numpy as np"
   ]
  },
  {
   "cell_type": "code",
   "execution_count": 50,
   "metadata": {},
   "outputs": [
    {
     "name": "stdout",
     "output_type": "stream",
     "text": [
      "1.14.1-dev20190328\n",
      "2.2.4-tf\n"
     ]
    }
   ],
   "source": [
    "print(tf.__version__)\n",
    "print(tf.keras.__version__)"
   ]
  },
  {
   "cell_type": "code",
   "execution_count": 51,
   "metadata": {},
   "outputs": [],
   "source": [
    "\n",
    "def random_one_hot_labels(shape):\n",
    "  n, n_class = shape\n",
    "  classes = np.random.randint(0, n_class, n)\n",
    "  labels = np.zeros((n, n_class))\n",
    "  labels[np.arange(n), classes] = 1\n",
    "  return labels"
   ]
  },
  {
   "cell_type": "code",
   "execution_count": 52,
   "metadata": {},
   "outputs": [],
   "source": [
    "data = np.random.random((1000, 32))\n",
    "labels = random_one_hot_labels((1000, 10))"
   ]
  },
  {
   "cell_type": "code",
   "execution_count": 64,
   "metadata": {},
   "outputs": [],
   "source": [
    "class MyModel():\n",
    "    def __init__(self, input_shape):\n",
    "        inputs = tf.keras.Input(shape=(input_shape,))\n",
    "        self.keras_model = self.build(inputs)\n",
    "        self.__compile__()\n",
    "    \n",
    "    def build(self, input_tensor):\n",
    "        x = keras.layers.Dense(128, name=\"layer1\", kernel_initializer=\"random_uniform\", bias_initializer=\"zeros\")(input_tensor)\n",
    "        x = keras.layers.Activation(\"relu\", name=\"layer1_activation\")(x)\n",
    "        x = keras.layers.Dense(10, name=\"layer2\",kernel_initializer=\"random_uniform\", bias_initializer=\"zeros\", activation=\"softmax\")(x)\n",
    "        model = tf.keras.Model(inputs = input_tensor, outputs = x)\n",
    "        return model\n",
    "    \n",
    "    def __compile__(self):\n",
    "        self.keras_model.compile(optimizer=tf.train.AdamOptimizer(0.001),\n",
    "              loss='categorical_crossentropy',\n",
    "              metrics=['accuracy'])\n",
    "    def train(self, data, label, batch_size, epochs):\n",
    "        self.keras_model.fit(data, label, batch_size=batch_size, epochs=epochs)\n",
    "\n"
   ]
  },
  {
   "cell_type": "code",
   "execution_count": 65,
   "metadata": {},
   "outputs": [
    {
     "name": "stdout",
     "output_type": "stream",
     "text": [
      "Epoch 1/5\n",
      "1000/1000 [==============================] - 0s 130us/sample - loss: 2.3034 - acc: 0.0930\n",
      "Epoch 2/5\n",
      "1000/1000 [==============================] - 0s 45us/sample - loss: 2.2960 - acc: 0.1070\n",
      "Epoch 3/5\n",
      "1000/1000 [==============================] - 0s 45us/sample - loss: 2.2926 - acc: 0.1210\n",
      "Epoch 4/5\n",
      "1000/1000 [==============================] - 0s 46us/sample - loss: 2.2883 - acc: 0.1440\n",
      "Epoch 5/5\n",
      "1000/1000 [==============================] - 0s 45us/sample - loss: 2.2860 - acc: 0.1290\n"
     ]
    }
   ],
   "source": [
    "model = MyModel(32)\n",
    "model.train(data, labels, batch_size=32, epochs=5)\n"
   ]
  },
  {
   "cell_type": "code",
   "execution_count": null,
   "metadata": {},
   "outputs": [],
   "source": []
  },
  {
   "cell_type": "code",
   "execution_count": null,
   "metadata": {},
   "outputs": [],
   "source": []
  }
 ],
 "metadata": {
  "kernelspec": {
   "display_name": "Python 3",
   "language": "python",
   "name": "python3"
  },
  "language_info": {
   "codemirror_mode": {
    "name": "ipython",
    "version": 3
   },
   "file_extension": ".py",
   "mimetype": "text/x-python",
   "name": "python",
   "nbconvert_exporter": "python",
   "pygments_lexer": "ipython3",
   "version": "3.5.2"
  }
 },
 "nbformat": 4,
 "nbformat_minor": 2
}
