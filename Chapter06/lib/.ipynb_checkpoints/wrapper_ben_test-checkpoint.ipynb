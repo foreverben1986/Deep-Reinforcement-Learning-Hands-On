{
 "cells": [
  {
   "cell_type": "code",
   "execution_count": null,
   "metadata": {},
   "outputs": [],
   "source": [
    "import gym\n",
    "import time\n",
    "import argparse\n",
    "import numpy as np\n",
    "import collections\n",
    "import wrappers_ben as wb\n",
    "import cv2\n",
    "import matplotlib.pyplot as plt\n",
    "import wrappers\n",
    "\n",
    "\n",
    "DEFAULT_ENV_NAME = \"PongNoFrameskip-v4\"\n",
    "FPS = 25"
   ]
  },
  {
   "cell_type": "code",
   "execution_count": null,
   "metadata": {},
   "outputs": [],
   "source": [
    "#test\n",
    "_obs_buffer = collections.deque(maxlen=2)\n",
    "np1 = np.array([[[1,2],[2,3]],[[3,4],[4,5]],[[5,6],[6,7]],[[7,18],[18,19]]])\n",
    "np2 = np.array([[[11,12],[12,13]],[[13,14],[14,15]],[[15,16],[16,17]],[[17,18],[18,19]]])\n",
    "np1[:,:,:-1] = np1[:,:,1:]\n",
    "np1[:,:,-1] = np2[:,:,1]\n",
    "print(np1)\n",
    "print(np2.shape)"
   ]
  },
  {
   "cell_type": "code",
   "execution_count": null,
   "metadata": {},
   "outputs": [],
   "source": [
    "#test\n",
    "env = gym.make(DEFAULT_ENV_NAME)\n",
    "env.reset()\n",
    "obs,reward,done,_ = env.step(env.action_space.sample())\n",
    "obs.shape"
   ]
  },
  {
   "cell_type": "code",
   "execution_count": null,
   "metadata": {},
   "outputs": [],
   "source": [
    "#test env\n",
    "env = gym.make(DEFAULT_ENV_NAME)\n",
    "#env = wb.FireResetEnv(env)\n",
    "#env = wb.MaxAndSkipEnv(env)\n",
    "#env = wb.ProcessFrame84(env)\n",
    "env.reset()\n",
    "_obs_buffer = collections.deque(maxlen=2)\n",
    "total_reward = 0\n",
    "\n",
    "start_ts = time.time()\n",
    "for _ in range(100):\n",
    "    obs, reward, done, info = env.step(env.action_space.sample())\n",
    "    _obs_buffer.append(obs)\n",
    "    total_reward += reward\n",
    "    if done:\n",
    "        print(\"is done\")\n",
    "        break\n",
    "max_frame = np.max(np.stack(_obs_buffer), axis=0)\n",
    "print(time.time() - start_ts)\n",
    "\n",
    "print(max_frame.shape)\n",
    "#max_frame = max_frame[:,:,0]\n",
    "_, ax = plt.subplots(1, figsize=(16,16))\n",
    "_, ax2 = plt.subplots(1, figsize=(16,16))\n",
    "#ax.imshow(max_frame, cmap='gray')\n",
    "ax.imshow(max_frame)\n",
    "ax2.imshow(max_frame)\n",
    "plt.show()"
   ]
  },
  {
   "cell_type": "code",
   "execution_count": null,
   "metadata": {},
   "outputs": [],
   "source": [
    "#test when will start\n",
    "env = gym.make(DEFAULT_ENV_NAME)\n",
    "env.reset()\n",
    "_obs_buffer = collections.deque(maxlen=2)\n",
    "print(env.unwrapped.get_action_meanings())\n",
    "total_reward = 0\n",
    "obs1, reward, done, info = env.step(1)\n",
    "obs2, reward, done, info = env.step(1)\n",
    "obs3, reward, done, info = env.step(1)\n",
    "obs4, reward, done, info = env.step(3)\n",
    "obs5, reward, done, info = env.step(4)\n",
    "obs6, reward, done, info = env.step(3)\n",
    "obs7, reward, done, info = env.step(4)\n",
    "obs8, reward, done, info = env.step(2)\n",
    "obs9, reward, done, info = env.step(2)\n",
    "obs10, reward, done, info = env.step(2)\n",
    "for _ in range(50):\n",
    "    obs10, reward, done, info = env.step(3)\n",
    "    if done:\n",
    "        print(\"is done\")\n",
    "        break\n",
    "\n",
    "_, ax = plt.subplots(1, figsize=(16,16))\n",
    "_, ax2 = plt.subplots(1, figsize=(16,16))\n",
    "_, ax3 = plt.subplots(1, figsize=(16,16))\n",
    "\n",
    "ax.imshow(obs2)\n",
    "ax2.imshow(obs6)\n",
    "ax3.imshow(obs10)\n",
    "plt.show()"
   ]
  },
  {
   "cell_type": "code",
   "execution_count": null,
   "metadata": {},
   "outputs": [],
   "source": [
    "#test env\n",
    "env = wb.make_env(DEFAULT_ENV_NAME)\n",
    "print(env.observation_space)\n",
    "env.reset()\n",
    "for _ in range(16):\n",
    "    obs, reward, done, info = env.step(env.action_space.sample())\n",
    "    if done:\n",
    "        print(\"is done\")\n",
    "        break\n",
    "\n",
    "print(obs.shape)\n",
    "_, ax = plt.subplots(1, figsize=(16,16))\n",
    "_, ax2 = plt.subplots(1, figsize=(16,16))\n",
    "_, ax3 = plt.subplots(1, figsize=(16,16))\n",
    "_, ax4 = plt.subplots(1, figsize=(16,16))\n",
    "ax.imshow(obs[:,:,0], cmap='gray')\n",
    "ax2.imshow(obs[:,:,1], cmap='gray')\n",
    "ax3.imshow(obs[:,:,2], cmap='gray')\n",
    "ax4.imshow(obs[:,:,3], cmap='gray')\n",
    "# ax.imshow(obs)\n",
    "plt.show()"
   ]
  },
  {
   "cell_type": "code",
   "execution_count": null,
   "metadata": {},
   "outputs": [],
   "source": [
    "#test env\n",
    "env = wb.make_env(DEFAULT_ENV_NAME)\n",
    "env.reset()\n",
    "for _ in range(16):\n",
    "    obs, reward, done, info = env.step(env.action_space.sample())\n",
    "    if done:\n",
    "        print(\"is done\")\n",
    "        break\n",
    "\n",
    "print(obs)"
   ]
  },
  {
   "cell_type": "code",
   "execution_count": null,
   "metadata": {},
   "outputs": [],
   "source": []
  }
 ],
 "metadata": {
  "kernelspec": {
   "display_name": "Python 3",
   "language": "python",
   "name": "python3"
  },
  "language_info": {
   "codemirror_mode": {
    "name": "ipython",
    "version": 3
   },
   "file_extension": ".py",
   "mimetype": "text/x-python",
   "name": "python",
   "nbconvert_exporter": "python",
   "pygments_lexer": "ipython3",
   "version": "3.5.2"
  }
 },
 "nbformat": 4,
 "nbformat_minor": 2
}
