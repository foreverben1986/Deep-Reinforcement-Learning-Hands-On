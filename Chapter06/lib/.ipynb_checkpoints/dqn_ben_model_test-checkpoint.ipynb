{
 "cells": [
  {
   "cell_type": "code",
   "execution_count": 49,
   "metadata": {},
   "outputs": [],
   "source": [
    "import tensorflow as tf\n",
    "import tensorflow.keras as keras\n",
    "import numpy as np"
   ]
  },
  {
   "cell_type": "code",
   "execution_count": 50,
   "metadata": {},
   "outputs": [
    {
     "name": "stdout",
     "output_type": "stream",
     "text": [
      "1.14.1-dev20190328\n",
      "2.2.4-tf\n"
     ]
    }
   ],
   "source": [
    "print(tf.__version__)\n",
    "print(tf.keras.__version__)"
   ]
  },
  {
   "cell_type": "code",
   "execution_count": 51,
   "metadata": {},
   "outputs": [],
   "source": [
    "\n",
    "def random_one_hot_labels(shape):\n",
    "  n, n_class = shape\n",
    "  classes = np.random.randint(0, n_class, n)\n",
    "  labels = np.zeros((n, n_class))\n",
    "  labels[np.arange(n), classes] = 1\n",
    "  return labels"
   ]
  },
  {
   "cell_type": "code",
   "execution_count": 52,
   "metadata": {},
   "outputs": [],
   "source": [
    "data = np.random.random((1000, 32))\n",
    "labels = random_one_hot_labels((1000, 10))"
   ]
  },
  {
   "cell_type": "code",
   "execution_count": 59,
   "metadata": {},
   "outputs": [],
   "source": [
    "class MyModel():\n",
    "    def __init__(self, input_shape):\n",
    "        inputs = tf.keras.Input(shape=(input_shape,))\n",
    "        self.keras_model = self.build(inputs)\n",
    "        self.__compile__()\n",
    "    \n",
    "    def build(self, input_tensor):\n",
    "        x = keras.layers.Dense(128, name=\"layer1\", kernel_initializer=\"random_uniform\", bias_initializer=\"zeros\")(input_tensor)\n",
    "        x = keras.layers.Activation(\"relu\", name=\"layer1_activation\")(x)\n",
    "        x = keras.layers.Dense(10, name=\"layer2\",kernel_initializer=\"random_uniform\", bias_initializer=\"zeros\", activation=\"softmax\")(x)\n",
    "        model = tf.keras.Model(inputs = input_tensor, outputs = x)\n",
    "        return model\n",
    "    \n",
    "    def __compile__(self):\n",
    "        self.keras_model.compile(optimizer=tf.train.AdamOptimizer(0.001),\n",
    "              loss='categorical_crossentropy',\n",
    "              metrics=['accuracy'])\n",
    "    def train(self, data, label, batch_size, epochs):\n",
    "        self.keras_model.fit(data, label, batch_size=batch_size, epochs=epochs)\n",
    "\n"
   ]
  },
  {
   "cell_type": "code",
   "execution_count": 61,
   "metadata": {},
   "outputs": [
    {
     "name": "stdout",
     "output_type": "stream",
     "text": [
      "Model: \"model_7\"\n",
      "_________________________________________________________________\n",
      "Layer (type)                 Output Shape              Param #   \n",
      "=================================================================\n",
      "input_19 (InputLayer)        [(None, 32)]              0         \n",
      "_________________________________________________________________\n",
      "layer1 (Dense)               (None, 128)               4224      \n",
      "_________________________________________________________________\n",
      "layer1_activation (Activatio (None, 128)               0         \n",
      "_________________________________________________________________\n",
      "layer2 (Dense)               (None, 10)                1290      \n",
      "=================================================================\n",
      "Total params: 5,514\n",
      "Trainable params: 5,514\n",
      "Non-trainable params: 0\n",
      "_________________________________________________________________\n",
      "Epoch 1/5\n",
      "1000/1000 [==============================] - 0s 120us/sample - loss: 2.3026 - acc: 0.1050\n",
      "Epoch 2/5\n",
      "1000/1000 [==============================] - 0s 47us/sample - loss: 2.2946 - acc: 0.1130\n",
      "Epoch 3/5\n",
      "1000/1000 [==============================] - 0s 44us/sample - loss: 2.2910 - acc: 0.1260\n",
      "Epoch 4/5\n",
      "1000/1000 [==============================] - 0s 47us/sample - loss: 2.2879 - acc: 0.1420\n",
      "Epoch 5/5\n",
      "1000/1000 [==============================] - 0s 47us/sample - loss: 2.2840 - acc: 0.1420\n"
     ]
    }
   ],
   "source": [
    "model = MyModel(32)\n",
    "model.train(data, labels, batch_size=32, epochs=5)\n"
   ]
  },
  {
   "cell_type": "code",
   "execution_count": null,
   "metadata": {},
   "outputs": [],
   "source": []
  },
  {
   "cell_type": "code",
   "execution_count": null,
   "metadata": {},
   "outputs": [],
   "source": []
  }
 ],
 "metadata": {
  "kernelspec": {
   "display_name": "Python 3",
   "language": "python",
   "name": "python3"
  },
  "language_info": {
   "codemirror_mode": {
    "name": "ipython",
    "version": 3
   },
   "file_extension": ".py",
   "mimetype": "text/x-python",
   "name": "python",
   "nbconvert_exporter": "python",
   "pygments_lexer": "ipython3",
   "version": "3.5.2"
  }
 },
 "nbformat": 4,
 "nbformat_minor": 2
}
