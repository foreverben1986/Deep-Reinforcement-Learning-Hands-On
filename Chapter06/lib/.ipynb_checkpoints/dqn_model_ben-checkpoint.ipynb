{
 "cells": [
  {
   "cell_type": "code",
   "execution_count": 1,
   "metadata": {},
   "outputs": [],
   "source": [
    "import numpy as np\n",
    "import tensorflow as tf\n",
    "import tensorflow.keras as keras"
   ]
  },
  {
   "cell_type": "code",
   "execution_count": 2,
   "metadata": {},
   "outputs": [
    {
     "name": "stdout",
     "output_type": "stream",
     "text": [
      "1.14.1-dev20190328\n",
      "2.2.4-tf\n"
     ]
    }
   ],
   "source": [
    "print(tf.__version__)\n",
    "print(tf.keras.__version__)"
   ]
  },
  {
   "cell_type": "code",
   "execution_count": 3,
   "metadata": {},
   "outputs": [],
   "source": [
    "class MyModel():\n",
    "    def __init__(self, input_shape, outputs):\n",
    "        inputs = tf.keras.Input(shape=input_shape)\n",
    "        self.keras_model = self.build(inputs, outputs)\n",
    "        self.__compile__()\n",
    "    \n",
    "    def build(self, input_tensor, output):\n",
    "        x = keras.layers.Conv2D(32, \n",
    "                                kernel_size = (9,9),\n",
    "                                strides=4,\n",
    "                                padding='same',\n",
    "                                name=\"layer1\", \n",
    "                                kernel_initializer=\"random_uniform\", \n",
    "                                bias_initializer=\"zeros\")(input_tensor)\n",
    "        x = keras.layers.Activation(\"relu\")(x)\n",
    "        x = keras.layers.Conv2D(64,\n",
    "                                kernel_size = (3, 3),\n",
    "                                strides = 2,\n",
    "                                padding = \"same\",\n",
    "                                name = \"layer2\",\n",
    "                                kernel_initializer=\"random_uniform\",\n",
    "                                bias_initializer=\"zeros\")(x)\n",
    "        x = keras.layers.Activation(\"relu\")(x)\n",
    "        x = keras.layers.Flatten()(x)\n",
    "        x = keras.layers.Dense(512, \n",
    "                               name=\"dense_layer1\", \n",
    "                               kernel_initializer=\"random_uniform\", \n",
    "                               bias_initializer=\"zeros\")(x)\n",
    "        x = keras.layers.Activation(\"relu\")(x)\n",
    "        x = keras.layers.Dense(output, \n",
    "                               name=\"dense_layer2\", \n",
    "                               kernel_initializer=\"random_uniform\", \n",
    "                               bias_initializer=\"zeros\", \n",
    "                               activation=\"softmax\")(x)\n",
    "        model = tf.keras.Model(inputs = input_tensor, outputs = x)\n",
    "        model.summary()\n",
    "        return model\n",
    "    \n",
    "    def __compile__(self):\n",
    "        self.keras_model.compile(optimizer=tf.train.AdamOptimizer(0.001),\n",
    "              loss='mean_squared_error',\n",
    "              metrics=['accuracy'])\n",
    "    def train(self, data, label, batch_size, epochs):\n",
    "        self.keras_model.fit(data, label, batch_size=batch_size, epochs=epochs)"
   ]
  },
  {
   "cell_type": "code",
   "execution_count": 4,
   "metadata": {},
   "outputs": [
    {
     "name": "stderr",
     "output_type": "stream",
     "text": [
      "WARNING: Logging before flag parsing goes to stderr.\n",
      "W0730 13:38:54.885170 140332519421696 deprecation.py:506] From /usr/local/lib/python3.5/dist-packages/tensorflow/python/keras/initializers.py:119: calling RandomUniform.__init__ (from tensorflow.python.ops.init_ops) with dtype is deprecated and will be removed in a future version.\n",
      "Instructions for updating:\n",
      "Call initializer instance with the dtype argument instead of passing it to the constructor\n"
     ]
    },
    {
     "name": "stdout",
     "output_type": "stream",
     "text": [
      "Model: \"model\"\n",
      "_________________________________________________________________\n",
      "Layer (type)                 Output Shape              Param #   \n",
      "=================================================================\n",
      "input_1 (InputLayer)         [(None, 120, 120, 3)]     0         \n",
      "_________________________________________________________________\n",
      "layer1 (Conv2D)              (None, 30, 30, 32)        7808      \n",
      "_________________________________________________________________\n",
      "activation (Activation)      (None, 30, 30, 32)        0         \n",
      "_________________________________________________________________\n",
      "layer2 (Conv2D)              (None, 15, 15, 64)        18496     \n",
      "_________________________________________________________________\n",
      "activation_1 (Activation)    (None, 15, 15, 64)        0         \n",
      "_________________________________________________________________\n",
      "flatten (Flatten)            (None, 14400)             0         \n",
      "_________________________________________________________________\n",
      "dense_layer1 (Dense)         (None, 512)               7373312   \n",
      "_________________________________________________________________\n",
      "activation_2 (Activation)    (None, 512)               0         \n",
      "_________________________________________________________________\n",
      "dense_layer2 (Dense)         (None, 2)                 1026      \n",
      "=================================================================\n",
      "Total params: 7,400,642\n",
      "Trainable params: 7,400,642\n",
      "Non-trainable params: 0\n",
      "_________________________________________________________________\n"
     ]
    }
   ],
   "source": [
    "myModel = MyModel((120,120, 4),2)"
   ]
  },
  {
   "cell_type": "code",
   "execution_count": null,
   "metadata": {},
   "outputs": [],
   "source": []
  }
 ],
 "metadata": {
  "kernelspec": {
   "display_name": "Python 3",
   "language": "python",
   "name": "python3"
  },
  "language_info": {
   "codemirror_mode": {
    "name": "ipython",
    "version": 3
   },
   "file_extension": ".py",
   "mimetype": "text/x-python",
   "name": "python",
   "nbconvert_exporter": "python",
   "pygments_lexer": "ipython3",
   "version": "3.5.2"
  }
 },
 "nbformat": 4,
 "nbformat_minor": 2
}
